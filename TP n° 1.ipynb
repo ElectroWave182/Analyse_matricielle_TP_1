{
 "cells": [
  {
   "cell_type": "markdown",
   "metadata": {
    "collapsed": false
   },
   "source": [
    "# Exercice 1\n",
    "\n"
   ]
  },
  {
   "cell_type": "code",
   "execution_count": 3,
   "metadata": {
    "collapsed": false
   },
   "outputs": [
    {
     "data": {
      "text/html": [
       "<html>\\(\\displaystyle \\left(\\begin{array}{r}\n",
       "-\\frac{1}{5} \\\\\n",
       "\\frac{9}{10}\n",
       "\\end{array}\\right)\\)</html>"
      ],
      "text/latex": [
       "$\\displaystyle \\left(\\begin{array}{r}\n",
       "-\\frac{1}{5} \\\\\n",
       "\\frac{9}{10}\n",
       "\\end{array}\\right)$"
      ],
      "text/plain": [
       "[-1/5]\n",
       "[9/10]"
      ]
     },
     "execution_count": 3,
     "metadata": {
     },
     "output_type": "execute_result"
    }
   ],
   "source": [
    "# 3)\n",
    "\n",
    "A = matrix ([\n",
    "    [-1, 2],\n",
    "    [3, 4]\n",
    "])\n",
    "B = matrix ([\n",
    "    [2, 3]\n",
    "])\n",
    "\n",
    "show (A.solve_right (B.transpose ()))"
   ]
  },
  {
   "cell_type": "markdown",
   "metadata": {
    "collapsed": false
   },
   "source": [
    "# Exercice 2\n",
    "\n"
   ]
  },
  {
   "cell_type": "code",
   "execution_count": 4,
   "metadata": {
    "collapsed": false
   },
   "outputs": [
    {
     "data": {
      "text/html": [
       "<html>\\(\\displaystyle x^{2} - x - 6\\)</html>"
      ],
      "text/latex": [
       "$\\displaystyle x^{2} - x - 6$"
      ],
      "text/plain": [
       "x^2 - x - 6"
      ]
     },
     "execution_count": 4,
     "metadata": {
     },
     "output_type": "execute_result"
    }
   ],
   "source": [
    "# 1)\n",
    "x = var ('x')\n",
    "A = matrix (2, 2, [\n",
    "    [5, 7],\n",
    "    [-2, -4]\n",
    "]) ; A\n",
    "\n",
    "global taille\n",
    "taille = 2\n",
    "\n",
    "show (A.charpoly (x))"
   ]
  },
  {
   "cell_type": "code",
   "execution_count": 5,
   "metadata": {
    "collapsed": false
   },
   "outputs": [
    {
     "data": {
      "text/html": [
       "<html>\\(\\displaystyle \\left[3, -2\\right]\\)</html>"
      ],
      "text/latex": [
       "$\\displaystyle \\left[3, -2\\right]$"
      ],
      "text/plain": [
       "[3, -2]"
      ]
     },
     "execution_count": 5,
     "metadata": {
     },
     "output_type": "execute_result"
    },
    {
     "data": {
      "text/html": [
       "<html>\\(\\displaystyle \\left[\\left(1,\\,-\\frac{2}{7}\\right), \\left(1,\\,-1\\right)\\right]\\)</html>"
      ],
      "text/latex": [
       "$\\displaystyle \\left[\\left(1,\\,-\\frac{2}{7}\\right), \\left(1,\\,-1\\right)\\right]$"
      ],
      "text/plain": [
       "[(1, -2/7), (1, -1)]"
      ]
     },
     "execution_count": 5,
     "metadata": {
     },
     "output_type": "execute_result"
    }
   ],
   "source": [
    "# 2)\n",
    "global sp\n",
    "sp = A.eigenvalues ()\n",
    "show (sp)\n",
    "\n",
    "u, v = [vecteur[1][0] for vecteur in A.eigenvectors_right ()]\n",
    "show ([u, v])"
   ]
  },
  {
   "cell_type": "code",
   "execution_count": 6,
   "metadata": {
    "collapsed": false
   },
   "outputs": [
    {
     "data": {
      "text/html": [
       "<html>\\(\\displaystyle \\left(0.961523947640823,\\,-0.274721127897378\\right) \\left(0.707106781186547,\\,-0.707106781186547\\right)\\)</html>"
      ],
      "text/latex": [
       "$\\displaystyle \\left(0.961523947640823,\\,-0.274721127897378\\right) \\left(0.707106781186547,\\,-0.707106781186547\\right)$"
      ],
      "text/plain": [
       "(0.961523947640823, -0.274721127897378) (0.707106781186547, -0.707106781186547)"
      ]
     },
     "execution_count": 6,
     "metadata": {
     },
     "output_type": "execute_result"
    }
   ],
   "source": [
    "# 3)\n",
    "def scalaire (vecteur1, vecteur2):\n",
    "    \n",
    "    x1, y1 = vecteur1\n",
    "    x2, y2 = vecteur2\n",
    "\n",
    "    return x1 * x2 + y1 * y2\n",
    "\n",
    "\n",
    "def norme2 (vecteur):\n",
    "    \n",
    "    return (scalaire (vecteur, vecteur)) ** 0.5\n",
    "\n",
    "\n",
    "normeU = norme2 (u)\n",
    "normeV = norme2 (v)\n",
    "\n",
    "orth = v - scalaire (u, v) / normeU * u\n",
    "\n",
    "# normalisation\n",
    "w = u / normeU\n",
    "z = v / normeV\n",
    "\n",
    "show (w, z)"
   ]
  },
  {
   "cell_type": "code",
   "execution_count": 7,
   "metadata": {
    "collapsed": false
   },
   "outputs": [
    {
     "name": "stdout",
     "output_type": "stream",
     "text": [
      "U :\n"
     ]
    },
    {
     "data": {
      "text/html": [
       "<html>\\(\\displaystyle \\left(\\begin{array}{rr}\n",
       "0.961523947640823 & 0.707106781186547 \\\\\n",
       "-0.274721127897378 & -0.707106781186547\n",
       "\\end{array}\\right)\\)</html>"
      ],
      "text/latex": [
       "$\\displaystyle \\left(\\begin{array}{rr}\n",
       "0.961523947640823 & 0.707106781186547 \\\\\n",
       "-0.274721127897378 & -0.707106781186547\n",
       "\\end{array}\\right)$"
      ],
      "text/plain": [
       "[ 0.961523947640823  0.707106781186547]\n",
       "[-0.274721127897378 -0.707106781186547]"
      ]
     },
     "execution_count": 7,
     "metadata": {
     },
     "output_type": "execute_result"
    },
    {
     "name": "stdout",
     "output_type": "stream",
     "text": [
      "\n",
      "U transposée :\n"
     ]
    },
    {
     "data": {
      "text/html": [
       "<html>\\(\\displaystyle \\left(\\begin{array}{rr}\n",
       "0.961523947640823 & -0.274721127897378 \\\\\n",
       "0.707106781186547 & -0.707106781186547\n",
       "\\end{array}\\right)\\)</html>"
      ],
      "text/latex": [
       "$\\displaystyle \\left(\\begin{array}{rr}\n",
       "0.961523947640823 & -0.274721127897378 \\\\\n",
       "0.707106781186547 & -0.707106781186547\n",
       "\\end{array}\\right)$"
      ],
      "text/plain": [
       "[ 0.961523947640823 -0.274721127897378]\n",
       "[ 0.707106781186547 -0.707106781186547]"
      ]
     },
     "execution_count": 7,
     "metadata": {
     },
     "output_type": "execute_result"
    },
    {
     "name": "stdout",
     "output_type": "stream",
     "text": [
      "\n",
      "T :\n"
     ]
    },
    {
     "data": {
      "text/html": [
       "<html>\\(\\displaystyle \\left(\\begin{array}{rr}\n",
       "3 & 0 \\\\\n",
       "0 & -2\n",
       "\\end{array}\\right)\\)</html>"
      ],
      "text/latex": [
       "$\\displaystyle \\left(\\begin{array}{rr}\n",
       "3 & 0 \\\\\n",
       "0 & -2\n",
       "\\end{array}\\right)$"
      ],
      "text/plain": [
       "[ 3  0]\n",
       "[ 0 -2]"
      ]
     },
     "execution_count": 7,
     "metadata": {
     },
     "output_type": "execute_result"
    },
    {
     "name": "stdout",
     "output_type": "stream",
     "text": [
      "\n"
     ]
    }
   ],
   "source": [
    "# 4)\n",
    "Ut = matrix ([w, z])\n",
    "U = Ut.transpose ()\n",
    "\n",
    "T = matrix ([[sp[lig] if lig == col else 0 for col in range (taille)] for lig in range (taille)])\n",
    "\n",
    "print (\"U :\")\n",
    "show (U)\n",
    "print ()\n",
    "\n",
    "print (\"U transposée :\")\n",
    "show (Ut)\n",
    "print ()\n",
    "\n",
    "print (\"T :\")\n",
    "show (T)\n",
    "print ()\n"
   ]
  },
  {
   "cell_type": "markdown",
   "metadata": {
    "collapsed": false
   },
   "source": [
    "# Exercice 3\n",
    "\n"
   ]
  },
  {
   "cell_type": "code",
   "execution_count": 8,
   "metadata": {
    "collapsed": false
   },
   "outputs": [
    {
     "data": {
      "text/html": [
       "<html>\\(\\displaystyle \\left(\\begin{array}{rr}\n",
       "6 & 9 \\\\\n",
       "9 & 14\n",
       "\\end{array}\\right)\\)</html>"
      ],
      "text/latex": [
       "$\\displaystyle \\left(\\begin{array}{rr}\n",
       "6 & 9 \\\\\n",
       "9 & 14\n",
       "\\end{array}\\right)$"
      ],
      "text/plain": [
       "[ 6  9]\n",
       "[ 9 14]"
      ]
     },
     "execution_count": 8,
     "metadata": {
     },
     "output_type": "execute_result"
    },
    {
     "data": {
      "text/html": [
       "<html>\\(\\displaystyle x^{2} - 20x + 3\\)</html>"
      ],
      "text/latex": [
       "$\\displaystyle x^{2} - 20x + 3$"
      ],
      "text/plain": [
       "x^2 - 20*x + 3"
      ]
     },
     "execution_count": 8,
     "metadata": {
     },
     "output_type": "execute_result"
    }
   ],
   "source": [
    "# 1)\n",
    "A = matrix ([\n",
    "    [1, 2, 1],\n",
    "    [2, 3, 1]\n",
    "])\n",
    "B = A.transpose ()\n",
    "C = A * B\n",
    "\n",
    "show (C)\n",
    "show (C.charpoly ())\n"
   ]
  },
  {
   "cell_type": "code",
   "execution_count": 9,
   "metadata": {
    "collapsed": false
   },
   "outputs": [
    {
     "data": {
      "text/html": [
       "<html>\\(\\displaystyle \\left[0.1511421982038953?, 19.84885780179611?\\right]\\)</html>"
      ],
      "text/latex": [
       "$\\displaystyle \\left[0.1511421982038953?, 19.84885780179611?\\right]$"
      ],
      "text/plain": [
       "[0.1511421982038953?, 19.84885780179611?]"
      ]
     },
     "execution_count": 9,
     "metadata": {
     },
     "output_type": "execute_result"
    }
   ],
   "source": [
    "# 2)\n",
    "spectreC = C.eigenvalues ()\n",
    "\n",
    "show (spectreC)"
   ]
  },
  {
   "cell_type": "code",
   "execution_count": 10,
   "metadata": {
    "collapsed": false
   },
   "outputs": [
    {
     "ename": "IndentationError",
     "evalue": "unexpected indent (1596954958.py, line 3)",
     "output_type": "error",
     "traceback": [
      "\u001b[0;36m  Input \u001b[0;32mIn [10]\u001b[0;36m\u001b[0m\n\u001b[0;31m    * U = vecteurs propres de A en colonne\u001b[0m\n\u001b[0m    ^\u001b[0m\n\u001b[0;31mIndentationError\u001b[0m\u001b[0;31m:\u001b[0m unexpected indent\n"
     ]
    }
   ],
   "source": [
    "# 3)\n",
    "\"\"\"\n",
    "    U = vecteurs propres de A en colonne\n",
    "    tV = vecteurs propres de tA en ligne\n",
    "    sigma = valeurs singulières sur la diagonale\n",
    "\"\"\""
   ]
  },
  {
   "cell_type": "code",
   "execution_count": 0,
   "metadata": {
    "collapsed": false
   },
   "outputs": [
   ],
   "source": [
   ]
  }
 ],
 "metadata": {
  "kernelspec": {
   "display_name": "SageMath 9.7",
   "language": "sagemath",
   "metadata": {
    "cocalc": {
     "description": "Open-source mathematical software system",
     "priority": 10,
     "url": "https://www.sagemath.org/"
    }
   },
   "name": "sage-9.7",
   "resource_dir": "/ext/jupyter/kernels/sage-9.7"
  },
  "language_info": {
   "codemirror_mode": {
    "name": "ipython",
    "version": 3
   },
   "file_extension": ".py",
   "mimetype": "text/x-python",
   "name": "python",
   "nbconvert_exporter": "python",
   "pygments_lexer": "ipython3",
   "version": "3.10.5"
  }
 },
 "nbformat": 4,
 "nbformat_minor": 4
}